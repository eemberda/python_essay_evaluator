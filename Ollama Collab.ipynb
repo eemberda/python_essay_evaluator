{
 "cells": [
  {
   "cell_type": "code",
   "execution_count": 1,
   "id": "86cf14c0-de78-4352-8fe3-0d8abd076b60",
   "metadata": {},
   "outputs": [
    {
     "name": "stdout",
     "output_type": "stream",
     "text": [
      "Note: you may need to restart the kernel to use updated packages.\n"
     ]
    }
   ],
   "source": [
    "%pip install -qU langchain-ollama"
   ]
  },
  {
   "cell_type": "code",
   "execution_count": 2,
   "id": "74fe07a8-036d-4fe1-a7da-580a1abaff15",
   "metadata": {},
   "outputs": [
    {
     "name": "stdout",
     "output_type": "stream",
     "text": [
      "Requirement already satisfied: ollama in /opt/anaconda3/envs/python310/lib/python3.10/site-packages (0.5.1)\n",
      "Requirement already satisfied: httpx>=0.27 in /opt/anaconda3/envs/python310/lib/python3.10/site-packages (from ollama) (0.27.0)\n",
      "Requirement already satisfied: pydantic>=2.9 in /opt/anaconda3/envs/python310/lib/python3.10/site-packages (from ollama) (2.10.6)\n",
      "Requirement already satisfied: anyio in /opt/anaconda3/envs/python310/lib/python3.10/site-packages (from httpx>=0.27->ollama) (4.6.2)\n",
      "Requirement already satisfied: certifi in /opt/anaconda3/envs/python310/lib/python3.10/site-packages (from httpx>=0.27->ollama) (2025.1.31)\n",
      "Requirement already satisfied: httpcore==1.* in /opt/anaconda3/envs/python310/lib/python3.10/site-packages (from httpx>=0.27->ollama) (1.0.2)\n",
      "Requirement already satisfied: idna in /opt/anaconda3/envs/python310/lib/python3.10/site-packages (from httpx>=0.27->ollama) (3.7)\n",
      "Requirement already satisfied: sniffio in /opt/anaconda3/envs/python310/lib/python3.10/site-packages (from httpx>=0.27->ollama) (1.3.0)\n",
      "Requirement already satisfied: h11<0.15,>=0.13 in /opt/anaconda3/envs/python310/lib/python3.10/site-packages (from httpcore==1.*->httpx>=0.27->ollama) (0.14.0)\n",
      "Requirement already satisfied: annotated-types>=0.6.0 in /opt/anaconda3/envs/python310/lib/python3.10/site-packages (from pydantic>=2.9->ollama) (0.7.0)\n",
      "Requirement already satisfied: pydantic-core==2.27.2 in /opt/anaconda3/envs/python310/lib/python3.10/site-packages (from pydantic>=2.9->ollama) (2.27.2)\n",
      "Requirement already satisfied: typing-extensions>=4.12.2 in /opt/anaconda3/envs/python310/lib/python3.10/site-packages (from pydantic>=2.9->ollama) (4.12.2)\n",
      "Requirement already satisfied: exceptiongroup>=1.0.2 in /opt/anaconda3/envs/python310/lib/python3.10/site-packages (from anyio->httpx>=0.27->ollama) (1.2.0)\n",
      "Note: you may need to restart the kernel to use updated packages.\n"
     ]
    }
   ],
   "source": [
    "%pip install -U ollama"
   ]
  },
  {
   "cell_type": "code",
   "execution_count": 1,
   "id": "f1f17664-c3a4-4c19-9428-c30582fcd0e1",
   "metadata": {},
   "outputs": [],
   "source": [
    "from langchain_ollama import ChatOllama\n",
    "\n",
    "llm = ChatOllama(\n",
    "    model=\"gemma3:4b\",\n",
    "    temperature=0,\n",
    "    # other params...\n",
    ")"
   ]
  },
  {
   "cell_type": "code",
   "execution_count": 2,
   "id": "7bd970ff-b33e-4332-b72d-178d2f3ec3ea",
   "metadata": {},
   "outputs": [],
   "source": [
    "def prompt_func(data):\n",
    "    text = data[\"text\"]\n",
    "    image = data[\"image\"]\n",
    "\n",
    "    image_part = {\n",
    "        \"type\": \"image_url\",\n",
    "        \"image_url\": f\"data:image/jpeg;base64,{image}\",\n",
    "    }\n",
    "\n",
    "    content_parts = []\n",
    "\n",
    "    text_part = {\"type\": \"text\", \"text\": text}\n",
    "\n",
    "    content_parts.append(image_part)\n",
    "    content_parts.append(text_part)\n",
    "\n",
    "    return [HumanMessage(content=content_parts)]"
   ]
  },
  {
   "cell_type": "code",
   "execution_count": 3,
   "id": "d7f1d4e5-f51c-4011-96c1-f78862b49dc4",
   "metadata": {},
   "outputs": [
    {
     "name": "stdout",
     "output_type": "stream",
     "text": [
      "/Users/ericjohnemberda/Documents/PERSONAL/PROJECTS\n"
     ]
    }
   ],
   "source": [
    "!pwd"
   ]
  },
  {
   "cell_type": "code",
   "execution_count": 9,
   "id": "9d73b3ed-77a9-431a-b076-4f5ce5f79eff",
   "metadata": {},
   "outputs": [
    {
     "name": "stdout",
     "output_type": "stream",
     "text": [
      "Okay, let's evaluate the essay based on your provided expectations and rubric.\n",
      "\n",
      "**Overall Assessment: D (65-74%)**\n",
      "\n",
      "Here’s a breakdown of the evaluation, addressing each of your criteria and the rubric:\n",
      "\n",
      "**1. Talk about Cultural Practices of a Particular Country (25%):**\n",
      "\n",
      "*   **Strengths:** The essay does touch upon cultural practices, specifically relating to the celebration of Diwali. It mentions the lighting of diyas (lamps), the exchange of sweets, and family gatherings.\n",
      "*   **Weaknesses:** The description is very brief and lacks depth. It doesn’t provide enough detail to truly understand the significance of Diwali within the Indian context. It feels like a surface-level observation rather than an exploration of the practice.\n",
      "\n",
      "**2. Talk about the Issues in the Cultural Practices (30%):**\n",
      "\n",
      "*   **Strengths:** The essay briefly mentions the potential for pollution due to the burning of diyas and the use of fireworks.\n",
      "*   **Weaknesses:** This is the weakest area of the essay. The discussion of issues is extremely limited. It doesn’t delve into the broader social, economic, or environmental concerns that might be associated with the celebration. There's no exploration of potential conflicts between tradition and modern concerns.\n",
      "\n",
      "**3. Provide Your Own Opinion on the Matter (45%):**\n",
      "\n",
      "*   **Strengths:** The essay expresses a desire to find a balance between tradition and environmental concerns. The statement \"We need to find a balance\" shows an awareness of the need for change.\n",
      "*   **Weaknesses:** The opinion is very generic and lacks specific suggestions or a well-developed argument. It’s a simple statement of intent without any supporting reasoning or analysis. The writing style is also somewhat disjointed and doesn't flow smoothly.\n",
      "\n",
      "**Detailed Feedback & Suggestions for Improvement:**\n",
      "\n",
      "*   **Expand on Cultural Practices:**  Instead of just listing activities, describe *why* Diwali is celebrated.  Discuss its origins (the return of Lord Rama), its significance for Hindus, and the various regional variations in how it’s observed.\n",
      "*   **Develop the Issues:**  Go beyond just mentioning pollution.  Discuss the impact of fireworks on air quality, the potential for waste generation, and the ethical considerations of consuming large amounts of food.  You could also explore the tension between preserving cultural traditions and adapting them to modern realities.\n",
      "*   **Strengthen Your Opinion:**  Don’t just state a desire for balance.  Offer specific suggestions. For example: “While Diwali is a cherished tradition, we must explore sustainable alternatives to fireworks and encourage responsible waste management. Perhaps community-led initiatives could promote eco-friendly celebrations.”  Support your opinion with reasoning.\n",
      "\n",
      "**Why a D Grade?**\n",
      "\n",
      "The essay demonstrates a basic understanding of the topic but falls short of the expectations in terms of depth, detail, and critical analysis. The writing is somewhat underdeveloped, and the arguments are not fully fleshed out.\n",
      "\n",
      "To achieve a higher grade, the student needs to significantly expand on the cultural practices, delve deeper into the issues, and articulate a more thoughtful and well-supported opinion.\n",
      "\n",
      "---\n",
      "\n",
      "Would you like me to:\n",
      "\n",
      "*   Provide a revised version of the essay incorporating these suggestions?\n",
      "*   Generate some specific prompts or questions to help the student develop their ideas further?\n"
     ]
    }
   ],
   "source": [
    "from langchain_core.output_parsers import StrOutputParser\n",
    "from io import BytesIO\n",
    "import base64\n",
    "from PIL import Image\n",
    "from langchain_core.messages import HumanMessage\n",
    "\n",
    "file_path = \"python_essay_evaluator/sample_essay.jpg\"\n",
    "pil_image = Image.open(file_path)\n",
    "\n",
    "\n",
    "def convert_to_base64(pil_image):\n",
    "    \"\"\"\n",
    "    Convert PIL images to Base64 encoded strings\n",
    "\n",
    "    :param pil_image: PIL image\n",
    "    :return: Re-sized Base64 string\n",
    "    \"\"\"\n",
    "\n",
    "    buffered = BytesIO()\n",
    "    pil_image.save(buffered, format=\"JPEG\")  # You can change the format if needed\n",
    "    img_str = base64.b64encode(buffered.getvalue()).decode(\"utf-8\")\n",
    "    return img_str\n",
    "\n",
    "\n",
    "def plt_img_base64(img_base64):\n",
    "    \"\"\"\n",
    "    Disply base64 encoded string as image\n",
    "\n",
    "    :param img_base64:  Base64 string\n",
    "    \"\"\"\n",
    "    # Create an HTML img tag with the base64 string as the source\n",
    "    image_html = f'<img src=\"data:image/jpeg;base64,{img_base64}\" />'\n",
    "    # Display the image by rendering the HTML\n",
    "    display(HTML(image_html))\n",
    "    \n",
    "image_b64 = convert_to_base64(pil_image)\n",
    "\n",
    "chain = prompt_func | llm | StrOutputParser()\n",
    "\n",
    "query_chain = chain.invoke(\n",
    "    {\"text\": \"Evaluate the attached essay based on the following expectations: \\\n",
    "    1. Talk about cultural practices of a particular country.\\\n",
    "    2. Talk about the issues in the cultural practices.\\\n",
    "    3. Provide your own opinion on the matter.\\\n",
    "    Use the rubric below to give a score:\\\n",
    "    90-100% (A): Exceptional work; demonstrates mastery of the assignment's objectives, using excellent grammar.\\\n",
    "    80-89% (B): Solid work; demonstrates a good understanding and fulfills most requirements, with good grammar.\\\n",
    "    70-79% (C): Satisfactory work; demonstrates an adequate understanding but may have some weaknesses, with some grammitcal problems.\\\n",
    "    60-69% (D): Below average work; demonstrates a limited understanding and has significant weaknesses, with unacceptable grammatical errors.\\\n",
    "    Below 60% (F): Unsatisfactory work; fails to meet the assignment's objectives; very problematic sentences unacceptable grammatical errors.\", \n",
    "    \"image\": image_b64}\n",
    ")\n",
    "\n",
    "print(query_chain)"
   ]
  },
  {
   "cell_type": "code",
   "execution_count": null,
   "id": "c9e7fd1a-45bf-4f88-8d4e-07ace57c9051",
   "metadata": {},
   "outputs": [],
   "source": []
  }
 ],
 "metadata": {
  "kernelspec": {
   "display_name": "Python 3 (ipykernel)",
   "language": "python",
   "name": "python3"
  },
  "language_info": {
   "codemirror_mode": {
    "name": "ipython",
    "version": 3
   },
   "file_extension": ".py",
   "mimetype": "text/x-python",
   "name": "python",
   "nbconvert_exporter": "python",
   "pygments_lexer": "ipython3",
   "version": "3.10.16"
  }
 },
 "nbformat": 4,
 "nbformat_minor": 5
}
